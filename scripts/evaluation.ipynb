{
 "cells": [
  {
   "cell_type": "markdown",
   "metadata": {},
   "source": [
    "## Evaluation\n",
    "\n",
    "This notebook is intended to evaluate the performance of the model using qualitative and quantitative measures."
   ]
  },
  {
   "cell_type": "markdown",
   "metadata": {},
   "source": [
    "For the sake of this demo project, we just apply our model to the validation set of our dataset, and plot the confusion matrix for the measurements."
   ]
  },
  {
   "cell_type": "markdown",
   "metadata": {},
   "source": [
    "### Notebook setup"
   ]
  },
  {
   "cell_type": "code",
   "execution_count": 8,
   "metadata": {},
   "outputs": [],
   "source": [
    "# Standard built-in modules\n",
    "import os\n",
    "import warnings\n",
    "\n",
    "# Third-party modules\n",
    "import matplotlib.pyplot as plt\n",
    "\n",
    "# Local modules\n",
    "from inference import InferenceModel\n",
    "import metrics\n",
    "\n",
    "# Configurations\n",
    "warnings.filterwarnings(\"ignore\")  \n",
    "root_path = os.path.dirname(os.path.abspath(''))"
   ]
  },
  {
   "cell_type": "markdown",
   "metadata": {},
   "source": [
    "### Confusion matrix"
   ]
  },
  {
   "cell_type": "code",
   "execution_count": 3,
   "metadata": {},
   "outputs": [
    {
     "name": "stdout",
     "output_type": "stream",
     "text": [
      "---Inference logger: A model was built with resnet18 architecture.\n",
      "---Inference logger: Searching for the best weight path from the weights directory based on the \"val-loss\" criterion.\n",
      "---Inference logger: Weights for the model were loaded from: weights/Exp-1/Exp-1_2022-04-13_12-30-04/checkpoint_epoch0_step8_val-loss=0.30.pt\n",
      "---Inference logger: Using Data Parallel with all available GPUs. \"gpu_id\" will be ignored.\n"
     ]
    }
   ],
   "source": [
    "model = InferenceModel(model_arch='resnet18', use_dp=True)"
   ]
  },
  {
   "cell_type": "code",
   "execution_count": 4,
   "metadata": {},
   "outputs": [],
   "source": [
    "# Get the test data and labels.\n",
    "\n",
    "label_dict = {'NORMAL':0, 'PNEUMONIA':1}\n",
    "img_paths = list()\n",
    "labels = list()\n",
    "for root, dirs, files in os.walk(f'..{os.path.sep}data{os.path.sep}test'):\n",
    "    for file in files:\n",
    "        if file.endswith('.jpeg'):\n",
    "            img_paths.append(os.path.join(root, file))\n",
    "            labels.append(label_dict[root.split(os.path.sep)[-1]])"
   ]
  },
  {
   "cell_type": "code",
   "execution_count": 5,
   "metadata": {},
   "outputs": [
    {
     "name": "stdout",
     "output_type": "stream",
     "text": [
      "---Inference logger: The dataset was built with length: 624\n",
      "---Inference logger: Using GPU for inference with DDP model = True , batch size: 4, and 4 workers.\n"
     ]
    },
    {
     "name": "stderr",
     "output_type": "stream",
     "text": [
      "100%|██████████| 156/156 [00:12<00:00, 12.66it/s]\n"
     ]
    }
   ],
   "source": [
    "# Run the inference\n",
    "\n",
    "processed_outputs, _ = model.predict(img_paths)"
   ]
  },
  {
   "cell_type": "code",
   "execution_count": 6,
   "metadata": {},
   "outputs": [
    {
     "data": {
      "image/png": "[encoded data removed]",
      "text/plain": [
       "<Figure size 360x360 with 2 Axes>"
      ]
     },
     "metadata": {
      "needs_background": "light"
     },
     "output_type": "display_data"
    }
   ],
   "source": [
    "# Plot the confusion matrix\n",
    "\n",
    "fig = metrics.plot_confusion_matrix(\n",
    "    preds = processed_outputs, \n",
    "    labels = labels, \n",
    "    classes = ['NORMAL', 'PNEUMONIA']\n",
    ")"
   ]
  },
  {
   "cell_type": "code",
   "execution_count": 10,
   "metadata": {},
   "outputs": [],
   "source": [
    "fig.savefig(f'{root_path}{os.path.sep}outputs{os.path.sep}confusion_matrix.png')"
   ]
  }
 ],
 "metadata": {
  "interpreter": {
   "hash": "cc6ff07f87616469d422ad524ecd6a5db81cfcdcd9038a5dac439635293baaa6"
  },
  "kernelspec": {
   "display_name": "Python 3.10.0 ('Main')",
   "language": "python",
   "name": "python3"
  },
  "language_info": {
   "codemirror_mode": {
    "name": "ipython",
    "version": 3
   },
   "file_extension": ".py",
   "mimetype": "text/x-python",
   "name": "python",
   "nbconvert_exporter": "python",
   "pygments_lexer": "ipython3",
   "version": "3.10.0"
  },
  "orig_nbformat": 4
 },
 "nbformat": 4,
 "nbformat_minor": 2
}
